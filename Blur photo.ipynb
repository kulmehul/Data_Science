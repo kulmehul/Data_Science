{
 "cells": [
  {
   "cell_type": "code",
   "execution_count": 1,
   "id": "2ddca2e3",
   "metadata": {},
   "outputs": [],
   "source": [
    "import cv2"
   ]
  },
  {
   "cell_type": "code",
   "execution_count": 43,
   "id": "5058dfd3",
   "metadata": {},
   "outputs": [],
   "source": [
    "photo = cv2.imread('v.png')"
   ]
  },
  {
   "cell_type": "code",
   "execution_count": 44,
   "id": "f371ec55",
   "metadata": {},
   "outputs": [
    {
     "data": {
      "text/plain": [
       "(480, 640, 3)"
      ]
     },
     "execution_count": 44,
     "metadata": {},
     "output_type": "execute_result"
    }
   ],
   "source": [
    "photo.shape"
   ]
  },
  {
   "cell_type": "code",
   "execution_count": 23,
   "id": "42be3ae9",
   "metadata": {},
   "outputs": [],
   "source": [
    "photo[:, :, [0,2] ] = 0"
   ]
  },
  {
   "cell_type": "code",
   "execution_count": 42,
   "id": "d815a72b",
   "metadata": {},
   "outputs": [],
   "source": [
    "cv2.imshow(\"hi\" , photo)\n",
    "cv2.waitKey()\n",
    "cv2.destroyAllWindows()"
   ]
  },
  {
   "cell_type": "code",
   "execution_count": 35,
   "id": "3edcadea",
   "metadata": {},
   "outputs": [],
   "source": [
    "photo = cv2.resize(photo, (10240, 10240))"
   ]
  },
  {
   "cell_type": "code",
   "execution_count": 45,
   "id": "d95beea4",
   "metadata": {},
   "outputs": [],
   "source": [
    "photo = cv2.blur(photo, (5,5))"
   ]
  },
  {
   "cell_type": "code",
   "execution_count": 46,
   "id": "7d567df9",
   "metadata": {},
   "outputs": [
    {
     "data": {
      "text/plain": [
       "(480, 640, 3)"
      ]
     },
     "execution_count": 46,
     "metadata": {},
     "output_type": "execute_result"
    }
   ],
   "source": [
    "photo.shape"
   ]
  },
  {
   "cell_type": "code",
   "execution_count": null,
   "id": "f37720ed",
   "metadata": {},
   "outputs": [],
   "source": []
  }
 ],
 "metadata": {
  "kernelspec": {
   "display_name": "Python 3",
   "language": "python",
   "name": "python3"
  },
  "language_info": {
   "codemirror_mode": {
    "name": "ipython",
    "version": 3
   },
   "file_extension": ".py",
   "mimetype": "text/x-python",
   "name": "python",
   "nbconvert_exporter": "python",
   "pygments_lexer": "ipython3",
   "version": "3.8.8"
  }
 },
 "nbformat": 4,
 "nbformat_minor": 5
}
