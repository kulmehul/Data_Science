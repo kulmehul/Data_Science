{
 "cells": [
  {
   "cell_type": "code",
   "execution_count": 1,
   "id": "73911ba3",
   "metadata": {},
   "outputs": [],
   "source": [
    "import cv2"
   ]
  },
  {
   "cell_type": "code",
   "execution_count": 2,
   "id": "294c94cb",
   "metadata": {},
   "outputs": [],
   "source": [
    "cap = cv2.VideoCapture(1)"
   ]
  },
  {
   "cell_type": "code",
   "execution_count": 37,
   "id": "0b9cb774",
   "metadata": {},
   "outputs": [],
   "source": [
    "ret, photo = cap.read()\n"
   ]
  },
  {
   "cell_type": "code",
   "execution_count": 38,
   "id": "c8382b8a",
   "metadata": {},
   "outputs": [],
   "source": [
    "cv2.imshow(\"my\" , photo)\n",
    "cv2.waitKey()\n",
    "cv2.destroyAllWindows()"
   ]
  },
  {
   "cell_type": "code",
   "execution_count": 5,
   "id": "2b6a3632",
   "metadata": {},
   "outputs": [
    {
     "data": {
      "text/plain": [
       "numpy.ndarray"
      ]
     },
     "execution_count": 5,
     "metadata": {},
     "output_type": "execute_result"
    }
   ],
   "source": [
    "type(photo)"
   ]
  },
  {
   "cell_type": "code",
   "execution_count": 6,
   "id": "732ab9ae",
   "metadata": {},
   "outputs": [
    {
     "data": {
      "text/plain": [
       "(480, 640, 3)"
      ]
     },
     "execution_count": 6,
     "metadata": {},
     "output_type": "execute_result"
    }
   ],
   "source": [
    "photo.shape"
   ]
  },
  {
   "cell_type": "code",
   "execution_count": 7,
   "id": "a7f8138a",
   "metadata": {},
   "outputs": [],
   "source": [
    "a = photo"
   ]
  },
  {
   "cell_type": "code",
   "execution_count": 8,
   "id": "056ef7be",
   "metadata": {},
   "outputs": [
    {
     "data": {
      "text/plain": [
       "numpy.ndarray"
      ]
     },
     "execution_count": 8,
     "metadata": {},
     "output_type": "execute_result"
    }
   ],
   "source": [
    "type(a)"
   ]
  },
  {
   "cell_type": "code",
   "execution_count": 9,
   "id": "db86e653",
   "metadata": {},
   "outputs": [
    {
     "data": {
      "text/plain": [
       "(480, 640, 3)"
      ]
     },
     "execution_count": 9,
     "metadata": {},
     "output_type": "execute_result"
    }
   ],
   "source": [
    "a.shape"
   ]
  },
  {
   "cell_type": "code",
   "execution_count": 10,
   "id": "569c160a",
   "metadata": {},
   "outputs": [],
   "source": [
    "cv2.imshow(\"my\" , a)\n",
    "cv2.waitKey()\n",
    "cv2.destroyAllWindows()"
   ]
  },
  {
   "cell_type": "code",
   "execution_count": 11,
   "id": "de161d8c",
   "metadata": {},
   "outputs": [],
   "source": [
    "photo[200:300, :] = [0,255,0]"
   ]
  },
  {
   "cell_type": "code",
   "execution_count": 12,
   "id": "b8c238c3",
   "metadata": {},
   "outputs": [],
   "source": [
    "cv2.imshow(\"my\" , photo)\n",
    "cv2.waitKey()\n",
    "cv2.destroyAllWindows()"
   ]
  },
  {
   "cell_type": "code",
   "execution_count": 13,
   "id": "d1bf71c2",
   "metadata": {},
   "outputs": [],
   "source": [
    "cv2.imshow(\"my\" , a)\n",
    "cv2.waitKey()\n",
    "cv2.destroyAllWindows()"
   ]
  },
  {
   "cell_type": "code",
   "execution_count": null,
   "id": "d64cb63c",
   "metadata": {},
   "outputs": [],
   "source": [
    "\n"
   ]
  },
  {
   "cell_type": "code",
   "execution_count": 14,
   "id": "17af254f",
   "metadata": {},
   "outputs": [],
   "source": [
    "b = [1,2,3,4]"
   ]
  },
  {
   "cell_type": "code",
   "execution_count": 15,
   "id": "8533b8a8",
   "metadata": {},
   "outputs": [
    {
     "data": {
      "text/plain": [
       "2514751218176"
      ]
     },
     "execution_count": 15,
     "metadata": {},
     "output_type": "execute_result"
    }
   ],
   "source": [
    "id(b)"
   ]
  },
  {
   "cell_type": "code",
   "execution_count": 16,
   "id": "bd3e7d12",
   "metadata": {},
   "outputs": [],
   "source": [
    "c = b"
   ]
  },
  {
   "cell_type": "code",
   "execution_count": 17,
   "id": "d496aaf1",
   "metadata": {},
   "outputs": [
    {
     "data": {
      "text/plain": [
       "[1, 2, 3, 4]"
      ]
     },
     "execution_count": 17,
     "metadata": {},
     "output_type": "execute_result"
    }
   ],
   "source": [
    "c"
   ]
  },
  {
   "cell_type": "code",
   "execution_count": 18,
   "id": "e27f2c83",
   "metadata": {},
   "outputs": [
    {
     "data": {
      "text/plain": [
       "2514751218176"
      ]
     },
     "execution_count": 18,
     "metadata": {},
     "output_type": "execute_result"
    }
   ],
   "source": [
    "id(c)"
   ]
  },
  {
   "cell_type": "code",
   "execution_count": 19,
   "id": "627ba8fa",
   "metadata": {},
   "outputs": [
    {
     "data": {
      "text/plain": [
       "[1, 2, 3, 4]"
      ]
     },
     "execution_count": 19,
     "metadata": {},
     "output_type": "execute_result"
    }
   ],
   "source": [
    "b"
   ]
  },
  {
   "cell_type": "code",
   "execution_count": 21,
   "id": "1081d02b",
   "metadata": {},
   "outputs": [],
   "source": [
    "c[2] = 555"
   ]
  },
  {
   "cell_type": "code",
   "execution_count": 22,
   "id": "68ce388d",
   "metadata": {},
   "outputs": [
    {
     "data": {
      "text/plain": [
       "[1, 2, 555, 4]"
      ]
     },
     "execution_count": 22,
     "metadata": {},
     "output_type": "execute_result"
    }
   ],
   "source": [
    "c"
   ]
  },
  {
   "cell_type": "code",
   "execution_count": 23,
   "id": "0fbc316f",
   "metadata": {},
   "outputs": [
    {
     "data": {
      "text/plain": [
       "[1, 2, 555, 4]"
      ]
     },
     "execution_count": 23,
     "metadata": {},
     "output_type": "execute_result"
    }
   ],
   "source": [
    "b"
   ]
  },
  {
   "cell_type": "code",
   "execution_count": 24,
   "id": "c88452f7",
   "metadata": {},
   "outputs": [
    {
     "data": {
      "text/plain": [
       "2514750718864"
      ]
     },
     "execution_count": 24,
     "metadata": {},
     "output_type": "execute_result"
    }
   ],
   "source": [
    "id(photo)"
   ]
  },
  {
   "cell_type": "code",
   "execution_count": 25,
   "id": "10a0d322",
   "metadata": {},
   "outputs": [],
   "source": [
    "d = photo"
   ]
  },
  {
   "cell_type": "code",
   "execution_count": 26,
   "id": "07bbe5a2",
   "metadata": {},
   "outputs": [
    {
     "data": {
      "text/plain": [
       "2514750718864"
      ]
     },
     "execution_count": 26,
     "metadata": {},
     "output_type": "execute_result"
    }
   ],
   "source": [
    "id(d)"
   ]
  },
  {
   "cell_type": "code",
   "execution_count": 29,
   "id": "bc089822",
   "metadata": {},
   "outputs": [],
   "source": [
    "e = photo[: , : , :]"
   ]
  },
  {
   "cell_type": "code",
   "execution_count": 30,
   "id": "25d3e76b",
   "metadata": {},
   "outputs": [
    {
     "data": {
      "text/plain": [
       "2514750720016"
      ]
     },
     "execution_count": 30,
     "metadata": {},
     "output_type": "execute_result"
    }
   ],
   "source": [
    "id(e)"
   ]
  },
  {
   "cell_type": "code",
   "execution_count": 31,
   "id": "ca897293",
   "metadata": {},
   "outputs": [],
   "source": [
    "e[300:400, :] = [255,0,0]"
   ]
  },
  {
   "cell_type": "code",
   "execution_count": 44,
   "id": "f39c3dc4",
   "metadata": {},
   "outputs": [],
   "source": [
    "cv2.imshow(\"my\" , photo)\n",
    "cv2.waitKey()\n",
    "cv2.destroyAllWindows()"
   ]
  },
  {
   "cell_type": "code",
   "execution_count": 34,
   "id": "04d813c9",
   "metadata": {},
   "outputs": [],
   "source": [
    "photo[400:450, : ] = [0,0,255]"
   ]
  },
  {
   "cell_type": "code",
   "execution_count": 39,
   "id": "6371ec51",
   "metadata": {},
   "outputs": [],
   "source": [
    "f = photo.copy()"
   ]
  },
  {
   "cell_type": "code",
   "execution_count": 40,
   "id": "37219bda",
   "metadata": {},
   "outputs": [
    {
     "data": {
      "text/plain": [
       "2514860929840"
      ]
     },
     "execution_count": 40,
     "metadata": {},
     "output_type": "execute_result"
    }
   ],
   "source": [
    "id(photo)"
   ]
  },
  {
   "cell_type": "code",
   "execution_count": 41,
   "id": "41f083a9",
   "metadata": {},
   "outputs": [
    {
     "data": {
      "text/plain": [
       "2514843161488"
      ]
     },
     "execution_count": 41,
     "metadata": {},
     "output_type": "execute_result"
    }
   ],
   "source": [
    "id(f)"
   ]
  },
  {
   "cell_type": "code",
   "execution_count": 42,
   "id": "75417e12",
   "metadata": {},
   "outputs": [],
   "source": [
    "f[200:300, :] = [255,0,0]"
   ]
  },
  {
   "cell_type": "code",
   "execution_count": 45,
   "id": "cb6fc0d7",
   "metadata": {},
   "outputs": [],
   "source": [
    "cap.release()"
   ]
  },
  {
   "cell_type": "code",
   "execution_count": null,
   "id": "e625ac4c",
   "metadata": {},
   "outputs": [],
   "source": []
  }
 ],
 "metadata": {
  "kernelspec": {
   "display_name": "Python 3",
   "language": "python",
   "name": "python3"
  },
  "language_info": {
   "codemirror_mode": {
    "name": "ipython",
    "version": 3
   },
   "file_extension": ".py",
   "mimetype": "text/x-python",
   "name": "python",
   "nbconvert_exporter": "python",
   "pygments_lexer": "ipython3",
   "version": "3.8.8"
  }
 },
 "nbformat": 4,
 "nbformat_minor": 5
}
