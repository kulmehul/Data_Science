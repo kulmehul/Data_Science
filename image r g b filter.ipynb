{
 "cells": [
  {
   "cell_type": "code",
   "execution_count": 1,
   "id": "2b61897b",
   "metadata": {},
   "outputs": [],
   "source": [
    "import cv2\n"
   ]
  },
  {
   "cell_type": "code",
   "execution_count": 2,
   "id": "a71c52a3",
   "metadata": {},
   "outputs": [],
   "source": [
    "cap = cv2.VideoCapture(1)"
   ]
  },
  {
   "cell_type": "code",
   "execution_count": 80,
   "id": "cbb42bfb",
   "metadata": {},
   "outputs": [],
   "source": [
    "ret , photo = cap.read()"
   ]
  },
  {
   "cell_type": "code",
   "execution_count": 81,
   "id": "3c2f46d5",
   "metadata": {},
   "outputs": [
    {
     "data": {
      "text/plain": [
       "numpy.ndarray"
      ]
     },
     "execution_count": 81,
     "metadata": {},
     "output_type": "execute_result"
    }
   ],
   "source": [
    "type(photo)"
   ]
  },
  {
   "cell_type": "code",
   "execution_count": 83,
   "id": "e05d2413",
   "metadata": {},
   "outputs": [],
   "source": [
    "b ,g ,r = cv2.split(photo)"
   ]
  },
  {
   "cell_type": "code",
   "execution_count": 86,
   "id": "c1441394",
   "metadata": {},
   "outputs": [
    {
     "data": {
      "text/plain": [
       "(480, 640)"
      ]
     },
     "execution_count": 86,
     "metadata": {},
     "output_type": "execute_result"
    }
   ],
   "source": [
    "r.shape"
   ]
  },
  {
   "cell_type": "code",
   "execution_count": null,
   "id": "f5c904c8",
   "metadata": {},
   "outputs": [],
   "source": []
  },
  {
   "cell_type": "code",
   "execution_count": 72,
   "id": "afbd9703",
   "metadata": {},
   "outputs": [
    {
     "data": {
      "text/plain": [
       "(480, 640, 3)"
      ]
     },
     "execution_count": 72,
     "metadata": {},
     "output_type": "execute_result"
    }
   ],
   "source": [
    "photo.shape"
   ]
  },
  {
   "cell_type": "code",
   "execution_count": 87,
   "id": "9248ab41",
   "metadata": {},
   "outputs": [],
   "source": [
    "cv2.imshow(\"hi\", photo)\n",
    "cv2.waitKey()\n",
    "cv2.destroyAllWindows()"
   ]
  },
  {
   "cell_type": "code",
   "execution_count": 89,
   "id": "10f4df50",
   "metadata": {},
   "outputs": [
    {
     "data": {
      "text/plain": [
       "array([[[133, 117,  98],\n",
       "        [136, 119, 100],\n",
       "        [138, 120,  99],\n",
       "        ...,\n",
       "        [165, 169, 176],\n",
       "        [165, 168, 174],\n",
       "        [164, 166, 173]],\n",
       "\n",
       "       [[135, 117,  98],\n",
       "        [135, 117,  98],\n",
       "        [136, 118,  99],\n",
       "        ...,\n",
       "        [164, 168, 173],\n",
       "        [163, 167, 171],\n",
       "        [164, 167, 171]],\n",
       "\n",
       "       [[136, 118,  99],\n",
       "        [135, 117,  98],\n",
       "        [135, 117,  98],\n",
       "        ...,\n",
       "        [162, 167, 171],\n",
       "        [163, 167, 171],\n",
       "        [164, 167, 171]],\n",
       "\n",
       "       ...,\n",
       "\n",
       "       [[ 41,  41,  41],\n",
       "        [ 42,  43,  43],\n",
       "        [ 44,  47,  47],\n",
       "        ...,\n",
       "        [ 78,  71,  59],\n",
       "        [ 78,  72,  59],\n",
       "        [ 77,  71,  58]],\n",
       "\n",
       "       [[ 42,  39,  40],\n",
       "        [ 43,  42,  42],\n",
       "        [ 45,  45,  45],\n",
       "        ...,\n",
       "        [ 80,  71,  58],\n",
       "        [ 79,  71,  58],\n",
       "        [ 78,  70,  57]],\n",
       "\n",
       "       [[ 40,  40,  40],\n",
       "        [ 41,  41,  41],\n",
       "        [ 44,  44,  44],\n",
       "        ...,\n",
       "        [ 80,  70,  59],\n",
       "        [ 79,  70,  60],\n",
       "        [ 79,  70,  60]]], dtype=uint8)"
      ]
     },
     "execution_count": 89,
     "metadata": {},
     "output_type": "execute_result"
    }
   ],
   "source": [
    "# photo[: , : ,  [0, 2]  ]  = 0\n",
    "photo"
   ]
  },
  {
   "cell_type": "code",
   "execution_count": null,
   "id": "24e1a42d",
   "metadata": {},
   "outputs": [],
   "source": [
    "photo"
   ]
  },
  {
   "cell_type": "code",
   "execution_count": 98,
   "id": "e25d5987",
   "metadata": {},
   "outputs": [],
   "source": [
    "nphoto = cv2.blur(photo , (15,15) )"
   ]
  },
  {
   "cell_type": "code",
   "execution_count": 100,
   "id": "510098b3",
   "metadata": {},
   "outputs": [],
   "source": [
    "cv2.imshow(\"hi\", photo)\n",
    "cv2.waitKey()\n",
    "cv2.destroyAllWindows()"
   ]
  },
  {
   "cell_type": "code",
   "execution_count": 101,
   "id": "2a40e602",
   "metadata": {},
   "outputs": [],
   "source": [
    "cap.release()"
   ]
  },
  {
   "cell_type": "code",
   "execution_count": 75,
   "id": "bc6873af",
   "metadata": {},
   "outputs": [],
   "source": [
    "r= photo[: , : , 2:3 ] + 50"
   ]
  },
  {
   "cell_type": "code",
   "execution_count": null,
   "id": "75da3556",
   "metadata": {},
   "outputs": [],
   "source": []
  },
  {
   "cell_type": "code",
   "execution_count": 77,
   "id": "268d3eb6",
   "metadata": {},
   "outputs": [],
   "source": [
    "photo[: , : , 2:3] = r"
   ]
  },
  {
   "cell_type": "code",
   "execution_count": null,
   "id": "9b14d210",
   "metadata": {},
   "outputs": [],
   "source": []
  },
  {
   "cell_type": "code",
   "execution_count": 78,
   "id": "f84e50d4",
   "metadata": {},
   "outputs": [
    {
     "data": {
      "text/plain": [
       "array([[[136, 115, 147],\n",
       "        [137, 117, 148],\n",
       "        [136, 115, 147],\n",
       "        ...,\n",
       "        [160, 167, 221],\n",
       "        [157, 167, 223],\n",
       "        [157, 167, 223]],\n",
       "\n",
       "       [[136, 116, 145],\n",
       "        [137, 116, 144],\n",
       "        [137, 115, 142],\n",
       "        ...,\n",
       "        [161, 167, 220],\n",
       "        [160, 166, 220],\n",
       "        [161, 167, 221]],\n",
       "\n",
       "       [[135, 117, 146],\n",
       "        [135, 116, 144],\n",
       "        [134, 114, 141],\n",
       "        ...,\n",
       "        [160, 167, 218],\n",
       "        [160, 167, 218],\n",
       "        [160, 167, 218]],\n",
       "\n",
       "       ...,\n",
       "\n",
       "       [[ 40,  40,  90],\n",
       "        [ 42,  42,  92],\n",
       "        [ 44,  44,  94],\n",
       "        ...,\n",
       "        [ 76,  68, 109],\n",
       "        [ 75,  68, 109],\n",
       "        [ 74,  67, 108]],\n",
       "\n",
       "       [[ 37,  38,  85],\n",
       "        [ 41,  41,  90],\n",
       "        [ 44,  44,  94],\n",
       "        ...,\n",
       "        [ 73,  66, 108],\n",
       "        [ 74,  67, 108],\n",
       "        [ 75,  68, 109]],\n",
       "\n",
       "       [[ 39,  38,  85],\n",
       "        [ 41,  40,  89],\n",
       "        [ 42,  42,  92],\n",
       "        ...,\n",
       "        [ 76,  67, 107],\n",
       "        [ 76,  66, 108],\n",
       "        [ 76,  66, 108]]], dtype=uint8)"
      ]
     },
     "execution_count": 78,
     "metadata": {},
     "output_type": "execute_result"
    }
   ],
   "source": [
    "photo"
   ]
  },
  {
   "cell_type": "code",
   "execution_count": 48,
   "id": "70b31294",
   "metadata": {},
   "outputs": [
    {
     "data": {
      "text/plain": [
       "array([[[  0, 114,   0],\n",
       "        [  0, 116,   0],\n",
       "        [  0, 116,   0],\n",
       "        ...,\n",
       "        [  0, 167,   0],\n",
       "        [  0, 167,   0],\n",
       "        [  0, 167,   0]],\n",
       "\n",
       "       [[  0, 115,   0],\n",
       "        [  0, 115,   0],\n",
       "        [  0, 114,   0],\n",
       "        ...,\n",
       "        [  0, 167,   0],\n",
       "        [  0, 167,   0],\n",
       "        [  0, 167,   0]],\n",
       "\n",
       "       [[  0, 116,   0],\n",
       "        [  0, 116,   0],\n",
       "        [  0, 115,   0],\n",
       "        ...,\n",
       "        [  0, 167,   0],\n",
       "        [  0, 166,   0],\n",
       "        [  0, 167,   0]],\n",
       "\n",
       "       ...,\n",
       "\n",
       "       [[  0,  41,   0],\n",
       "        [  0,  43,   0],\n",
       "        [  0,  44,   0],\n",
       "        ...,\n",
       "        [  0,  68,   0],\n",
       "        [  0,  67,   0],\n",
       "        [  0,  66,   0]],\n",
       "\n",
       "       [[  0,  40,   0],\n",
       "        [  0,  42,   0],\n",
       "        [  0,  43,   0],\n",
       "        ...,\n",
       "        [  0,  66,   0],\n",
       "        [  0,  67,   0],\n",
       "        [  0,  65,   0]],\n",
       "\n",
       "       [[  0,  38,   0],\n",
       "        [  0,  39,   0],\n",
       "        [  0,  40,   0],\n",
       "        ...,\n",
       "        [  0,  66,   0],\n",
       "        [  0,  67,   0],\n",
       "        [  0,  67,   0]]], dtype=uint8)"
      ]
     },
     "execution_count": 48,
     "metadata": {},
     "output_type": "execute_result"
    }
   ],
   "source": [
    "photo"
   ]
  },
  {
   "cell_type": "code",
   "execution_count": 3,
   "id": "4b7886a0",
   "metadata": {},
   "outputs": [],
   "source": [
    "import numpy"
   ]
  },
  {
   "cell_type": "code",
   "execution_count": 4,
   "id": "c719ba1b",
   "metadata": {},
   "outputs": [],
   "source": [
    "a = [ [ 1,2,3] , [4,5,6] , [7,8,9], [11,12,13] ] "
   ]
  },
  {
   "cell_type": "code",
   "execution_count": 6,
   "id": "266d3d52",
   "metadata": {},
   "outputs": [],
   "source": [
    "b = numpy.array(a)"
   ]
  },
  {
   "cell_type": "code",
   "execution_count": 18,
   "id": "50b16f2f",
   "metadata": {},
   "outputs": [
    {
     "data": {
      "text/plain": [
       "array([ 4, 10, 16, 24])"
      ]
     },
     "execution_count": 18,
     "metadata": {},
     "output_type": "execute_result"
    }
   ],
   "source": [
    "b[: , 1] * 2"
   ]
  },
  {
   "cell_type": "code",
   "execution_count": 21,
   "id": "b575fd9b",
   "metadata": {},
   "outputs": [
    {
     "data": {
      "text/plain": [
       "array([[ 2,  4,  6],\n",
       "       [ 8, 10, 12],\n",
       "       [14, 16, 18],\n",
       "       [22, 24, 26]])"
      ]
     },
     "execution_count": 21,
     "metadata": {},
     "output_type": "execute_result"
    }
   ],
   "source": [
    "b *  2"
   ]
  },
  {
   "cell_type": "code",
   "execution_count": 31,
   "id": "6b375b77",
   "metadata": {},
   "outputs": [
    {
     "ename": "IndexError",
     "evalue": "too many indices for array: array is 2-dimensional, but 3 were indexed",
     "output_type": "error",
     "traceback": [
      "\u001b[1;31m---------------------------------------------------------------------------\u001b[0m",
      "\u001b[1;31mIndexError\u001b[0m                                Traceback (most recent call last)",
      "\u001b[1;32m<ipython-input-31-82a64644ca7d>\u001b[0m in \u001b[0;36m<module>\u001b[1;34m\u001b[0m\n\u001b[1;32m----> 1\u001b[1;33m \u001b[0mb\u001b[0m\u001b[1;33m[\u001b[0m\u001b[1;33m:\u001b[0m \u001b[1;33m,\u001b[0m \u001b[1;33m[\u001b[0m\u001b[1;36m0\u001b[0m\u001b[1;33m,\u001b[0m \u001b[1;36m2\u001b[0m\u001b[1;33m]\u001b[0m \u001b[1;33m,\u001b[0m\u001b[1;36m2\u001b[0m\u001b[1;33m]\u001b[0m\u001b[1;33m\u001b[0m\u001b[1;33m\u001b[0m\u001b[0m\n\u001b[0m",
      "\u001b[1;31mIndexError\u001b[0m: too many indices for array: array is 2-dimensional, but 3 were indexed"
     ]
    }
   ],
   "source": [
    "b[: , [0, 2] ,2]"
   ]
  },
  {
   "cell_type": "code",
   "execution_count": 30,
   "id": "7e0a7df3",
   "metadata": {},
   "outputs": [
    {
     "data": {
      "text/plain": [
       "array([[ 1,  2,  3],\n",
       "       [ 4,  5,  6],\n",
       "       [ 7,  8,  9],\n",
       "       [11, 12, 13]])"
      ]
     },
     "execution_count": 30,
     "metadata": {},
     "output_type": "execute_result"
    }
   ],
   "source": [
    "b"
   ]
  },
  {
   "cell_type": "code",
   "execution_count": null,
   "id": "aefbbc9d",
   "metadata": {},
   "outputs": [],
   "source": []
  }
 ],
 "metadata": {
  "kernelspec": {
   "display_name": "Python 3",
   "language": "python",
   "name": "python3"
  },
  "language_info": {
   "codemirror_mode": {
    "name": "ipython",
    "version": 3
   },
   "file_extension": ".py",
   "mimetype": "text/x-python",
   "name": "python",
   "nbconvert_exporter": "python",
   "pygments_lexer": "ipython3",
   "version": "3.8.8"
  }
 },
 "nbformat": 4,
 "nbformat_minor": 5
}
