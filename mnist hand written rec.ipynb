{
 "cells": [
  {
   "cell_type": "code",
   "execution_count": null,
   "id": "d66ce3fc",
   "metadata": {},
   "outputs": [],
   "source": [
    "from keras.datasets import mnist"
   ]
  },
  {
   "cell_type": "code",
   "execution_count": null,
   "id": "0e355a23",
   "metadata": {},
   "outputs": [],
   "source": [
    "dataset = mnist.load_data('mnist.db')"
   ]
  },
  {
   "cell_type": "code",
   "execution_count": null,
   "id": "dd94b77d",
   "metadata": {},
   "outputs": [],
   "source": [
    "len(dataset)"
   ]
  },
  {
   "cell_type": "code",
   "execution_count": null,
   "id": "49fde890",
   "metadata": {},
   "outputs": [],
   "source": [
    "train , test = dataset"
   ]
  },
  {
   "cell_type": "code",
   "execution_count": null,
   "id": "18c4ebe3",
   "metadata": {},
   "outputs": [],
   "source": [
    "len(train)"
   ]
  },
  {
   "cell_type": "code",
   "execution_count": null,
   "id": "3e61ce8d",
   "metadata": {},
   "outputs": [],
   "source": [
    "X_train , y_train = train"
   ]
  },
  {
   "cell_type": "code",
   "execution_count": null,
   "id": "6ea8cb19",
   "metadata": {},
   "outputs": [],
   "source": [
    "X_test, y_test = test"
   ]
  },
  {
   "cell_type": "code",
   "execution_count": null,
   "id": "87ba83a6",
   "metadata": {},
   "outputs": [],
   "source": [
    "len(X_train)"
   ]
  },
  {
   "cell_type": "code",
   "execution_count": null,
   "id": "3c8ba963",
   "metadata": {},
   "outputs": [],
   "source": [
    "len(X_test)"
   ]
  },
  {
   "cell_type": "code",
   "execution_count": null,
   "id": "b8f8258c",
   "metadata": {},
   "outputs": [],
   "source": [
    "X_train[0].shape"
   ]
  },
  {
   "cell_type": "code",
   "execution_count": null,
   "id": "1542113c",
   "metadata": {},
   "outputs": [],
   "source": [
    "X_train.shape"
   ]
  },
  {
   "cell_type": "code",
   "execution_count": null,
   "id": "9787b2cc",
   "metadata": {},
   "outputs": [],
   "source": [
    "import matplotlib.pyplot as plt"
   ]
  },
  {
   "cell_type": "code",
   "execution_count": null,
   "id": "b7d16956",
   "metadata": {},
   "outputs": [],
   "source": [
    "img = X_train[2]"
   ]
  },
  {
   "cell_type": "code",
   "execution_count": null,
   "id": "f9203492",
   "metadata": {},
   "outputs": [],
   "source": [
    "img = X_train[2]\n",
    "plt.imshow(img , cmap='gray')"
   ]
  },
  {
   "cell_type": "code",
   "execution_count": null,
   "id": "df5606e0",
   "metadata": {},
   "outputs": [],
   "source": [
    "y_train"
   ]
  },
  {
   "cell_type": "code",
   "execution_count": null,
   "id": "c5e1c650",
   "metadata": {},
   "outputs": [],
   "source": [
    "img.shape"
   ]
  },
  {
   "cell_type": "code",
   "execution_count": null,
   "id": "9d718d37",
   "metadata": {},
   "outputs": [],
   "source": [
    "type(img)"
   ]
  },
  {
   "cell_type": "code",
   "execution_count": null,
   "id": "1972a892",
   "metadata": {},
   "outputs": [],
   "source": [
    "img_1d = img.reshape(28 * 28)"
   ]
  },
  {
   "cell_type": "code",
   "execution_count": null,
   "id": "1f70f093",
   "metadata": {},
   "outputs": [],
   "source": [
    "img_1d.shape"
   ]
  },
  {
   "cell_type": "code",
   "execution_count": null,
   "id": "4ee4cc27",
   "metadata": {},
   "outputs": [],
   "source": [
    "img_1d"
   ]
  },
  {
   "cell_type": "code",
   "execution_count": null,
   "id": "81caf0c6",
   "metadata": {},
   "outputs": [],
   "source": [
    "X_train.shape"
   ]
  },
  {
   "cell_type": "code",
   "execution_count": null,
   "id": "260a46cf",
   "metadata": {},
   "outputs": [],
   "source": [
    "X_train_1d = X_train.reshape(-1,   28*28)"
   ]
  },
  {
   "cell_type": "code",
   "execution_count": null,
   "id": "4b3b4211",
   "metadata": {},
   "outputs": [],
   "source": [
    "X_train_1d"
   ]
  },
  {
   "cell_type": "code",
   "execution_count": null,
   "id": "aed5a6f9",
   "metadata": {},
   "outputs": [],
   "source": [
    "X_test_1d = X_test.reshape(-1,   28*28)"
   ]
  },
  {
   "cell_type": "code",
   "execution_count": null,
   "id": "0ae3c505",
   "metadata": {},
   "outputs": [],
   "source": [
    "X_test_1d.shape"
   ]
  },
  {
   "cell_type": "code",
   "execution_count": null,
   "id": "df0f43fc",
   "metadata": {},
   "outputs": [],
   "source": [
    "X_train_1d"
   ]
  },
  {
   "cell_type": "code",
   "execution_count": null,
   "id": "72e4dc0c",
   "metadata": {},
   "outputs": [],
   "source": [
    "X_train_1d_f = X_train_1d.astype('float32')"
   ]
  },
  {
   "cell_type": "code",
   "execution_count": null,
   "id": "ab6724be",
   "metadata": {},
   "outputs": [],
   "source": [
    "X_train_1d_f"
   ]
  },
  {
   "cell_type": "code",
   "execution_count": null,
   "id": "7c3cd621",
   "metadata": {},
   "outputs": [],
   "source": [
    "X_test_1d_f = X_test_1d.astype('float32')"
   ]
  },
  {
   "cell_type": "code",
   "execution_count": null,
   "id": "3fc4d009",
   "metadata": {},
   "outputs": [],
   "source": [
    "from keras.utils.np_utils import to_categorical"
   ]
  },
  {
   "cell_type": "code",
   "execution_count": null,
   "id": "1a6f02a3",
   "metadata": {},
   "outputs": [],
   "source": [
    "y_train.shape"
   ]
  },
  {
   "cell_type": "code",
   "execution_count": null,
   "id": "24a6b8e6",
   "metadata": {},
   "outputs": [],
   "source": [
    "y_train"
   ]
  },
  {
   "cell_type": "code",
   "execution_count": null,
   "id": "e02f97b8",
   "metadata": {},
   "outputs": [],
   "source": [
    "y_train_cat = to_categorical(y_train)"
   ]
  },
  {
   "cell_type": "code",
   "execution_count": null,
   "id": "86024a99",
   "metadata": {},
   "outputs": [],
   "source": [
    "img = X_train[300]\n",
    "plt.imshow(img , cmap='gray')"
   ]
  },
  {
   "cell_type": "code",
   "execution_count": null,
   "id": "e8f9d041",
   "metadata": {},
   "outputs": [],
   "source": [
    "y_train[300]"
   ]
  },
  {
   "cell_type": "code",
   "execution_count": null,
   "id": "458773f2",
   "metadata": {},
   "outputs": [],
   "source": [
    "y_train_cat[300]"
   ]
  },
  {
   "cell_type": "code",
   "execution_count": null,
   "id": "be54da5f",
   "metadata": {},
   "outputs": [],
   "source": [
    "from keras.models import Sequential"
   ]
  },
  {
   "cell_type": "code",
   "execution_count": null,
   "id": "98e2906f",
   "metadata": {},
   "outputs": [],
   "source": [
    "model  = Sequential()"
   ]
  },
  {
   "cell_type": "code",
   "execution_count": null,
   "id": "3de838fe",
   "metadata": {},
   "outputs": [],
   "source": [
    "from keras.layers import Dense"
   ]
  },
  {
   "cell_type": "code",
   "execution_count": null,
   "id": "8742538c",
   "metadata": {},
   "outputs": [],
   "source": [
    "model.add(\n",
    "    Dense( units=512 , input_dim=28*28 , activation='relu')\n",
    ")"
   ]
  },
  {
   "cell_type": "code",
   "execution_count": null,
   "id": "f6c67698",
   "metadata": {},
   "outputs": [],
   "source": [
    "model.summary()"
   ]
  },
  {
   "cell_type": "code",
   "execution_count": null,
   "id": "a0b3edc4",
   "metadata": {},
   "outputs": [],
   "source": [
    "model.add(\n",
    "    Dense( units=256 , activation='relu')\n",
    ")"
   ]
  },
  {
   "cell_type": "code",
   "execution_count": null,
   "id": "7f55e19b",
   "metadata": {},
   "outputs": [],
   "source": [
    "model.add(\n",
    "    Dense( units=128 , activation='relu')\n",
    ")"
   ]
  },
  {
   "cell_type": "code",
   "execution_count": null,
   "id": "a210429b",
   "metadata": {},
   "outputs": [],
   "source": [
    "model.add(\n",
    "    Dense( units=64 , activation='relu')\n",
    ")"
   ]
  },
  {
   "cell_type": "code",
   "execution_count": null,
   "id": "efc701ca",
   "metadata": {},
   "outputs": [],
   "source": [
    "model.add(\n",
    "    Dense( units=10 , activation='softmax')\n",
    ")"
   ]
  },
  {
   "cell_type": "code",
   "execution_count": null,
   "id": "62db926d",
   "metadata": {},
   "outputs": [],
   "source": [
    "model.summary()"
   ]
  },
  {
   "cell_type": "code",
   "execution_count": null,
   "id": "aa630b30",
   "metadata": {},
   "outputs": [],
   "source": [
    "from keras.optimizers import RMSprop"
   ]
  },
  {
   "cell_type": "code",
   "execution_count": null,
   "id": "89fe2f0c",
   "metadata": {},
   "outputs": [],
   "source": [
    "model.compile(\n",
    "            optimizer=RMSprop() , \n",
    "            loss='categorical_crossentropy',\n",
    "            metrics=['accuracy']\n",
    "             )"
   ]
  },
  {
   "cell_type": "code",
   "execution_count": null,
   "id": "9c67cc11",
   "metadata": {},
   "outputs": [],
   "source": [
    "model.fit( X_train_1d_f , y_train_cat , epochs=10)\n"
   ]
  },
  {
   "cell_type": "code",
   "execution_count": null,
   "id": "d3725916",
   "metadata": {},
   "outputs": [],
   "source": [
    "img_test = X_test[12]"
   ]
  },
  {
   "cell_type": "code",
   "execution_count": null,
   "id": "5461f06e",
   "metadata": {},
   "outputs": [],
   "source": [
    "plt.imshow(img_test)"
   ]
  },
  {
   "cell_type": "code",
   "execution_count": null,
   "id": "1a200f07",
   "metadata": {},
   "outputs": [],
   "source": [
    "img_test.shape"
   ]
  },
  {
   "cell_type": "code",
   "execution_count": null,
   "id": "8b1be26b",
   "metadata": {},
   "outputs": [],
   "source": [
    "img_test_1d = img_test.reshape(1 , 28*28)"
   ]
  },
  {
   "cell_type": "code",
   "execution_count": null,
   "id": "839f3af3",
   "metadata": {},
   "outputs": [],
   "source": [
    "img_test_1d.shape"
   ]
  },
  {
   "cell_type": "code",
   "execution_count": null,
   "id": "77cc4e52",
   "metadata": {},
   "outputs": [],
   "source": []
  },
  {
   "cell_type": "code",
   "execution_count": null,
   "id": "fbc8aa87",
   "metadata": {},
   "outputs": [],
   "source": [
    "model.predict(img_test_1d)"
   ]
  },
  {
   "cell_type": "code",
   "execution_count": null,
   "id": "7d4118ad",
   "metadata": {},
   "outputs": [],
   "source": [
    "import keras.backend as k\n",
    "k.clear_session()"
   ]
  },
  {
   "cell_type": "code",
   "execution_count": null,
   "id": "65d71dbe",
   "metadata": {},
   "outputs": [],
   "source": []
  }
 ],
 "metadata": {
  "kernelspec": {
   "display_name": "Python 3",
   "language": "python",
   "name": "python3"
  },
  "language_info": {
   "codemirror_mode": {
    "name": "ipython",
    "version": 3
   },
   "file_extension": ".py",
   "mimetype": "text/x-python",
   "name": "python",
   "nbconvert_exporter": "python",
   "pygments_lexer": "ipython3",
   "version": "3.8.8"
  }
 },
 "nbformat": 4,
 "nbformat_minor": 5
}
