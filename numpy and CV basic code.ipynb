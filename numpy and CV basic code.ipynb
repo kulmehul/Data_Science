{
 "cells": [
  {
   "cell_type": "code",
   "execution_count": 1,
   "id": "e4fb3beb",
   "metadata": {},
   "outputs": [],
   "source": [
    "db = [\"vimal\", \"pop\", \"jack\", \"eric\"]"
   ]
  },
  {
   "cell_type": "code",
   "execution_count": 2,
   "id": "b801102f",
   "metadata": {},
   "outputs": [
    {
     "data": {
      "text/plain": [
       "list"
      ]
     },
     "execution_count": 2,
     "metadata": {},
     "output_type": "execute_result"
    }
   ],
   "source": [
    "type(db)"
   ]
  },
  {
   "cell_type": "code",
   "execution_count": 5,
   "id": "d80a02eb",
   "metadata": {},
   "outputs": [
    {
     "data": {
      "text/plain": [
       "['pop', 'jack', 'eric']"
      ]
     },
     "execution_count": 5,
     "metadata": {},
     "output_type": "execute_result"
    }
   ],
   "source": [
    "db[1:4]"
   ]
  },
  {
   "cell_type": "code",
   "execution_count": 6,
   "id": "c282c747",
   "metadata": {},
   "outputs": [
    {
     "data": {
      "text/plain": [
       "['pop', 'jack', 'eric']"
      ]
     },
     "execution_count": 6,
     "metadata": {},
     "output_type": "execute_result"
    }
   ],
   "source": [
    "db[1:]"
   ]
  },
  {
   "cell_type": "code",
   "execution_count": 7,
   "id": "866efeb1",
   "metadata": {},
   "outputs": [
    {
     "data": {
      "text/plain": [
       "['vimal', 'pop', 'jack']"
      ]
     },
     "execution_count": 7,
     "metadata": {},
     "output_type": "execute_result"
    }
   ],
   "source": [
    "db[:3]"
   ]
  },
  {
   "cell_type": "code",
   "execution_count": 9,
   "id": "08f13b10",
   "metadata": {},
   "outputs": [
    {
     "data": {
      "text/plain": [
       "['vimal', 'pop', 'jack', 'eric']"
      ]
     },
     "execution_count": 9,
     "metadata": {},
     "output_type": "execute_result"
    }
   ],
   "source": [
    "db[:]"
   ]
  },
  {
   "cell_type": "code",
   "execution_count": 17,
   "id": "1bd32152",
   "metadata": {},
   "outputs": [],
   "source": [
    "db = [ \n",
    "      [ 1,\"vimal\",1111,\"ok\"]  , \n",
    "       [2,\"pop\",2222,\"good\" ], \n",
    "        [3,\"jack\",3333,\"ok\" ],\n",
    "       [ 4, \"eric\", 4444, \"good\" ] \n",
    "     ]"
   ]
  },
  {
   "cell_type": "code",
   "execution_count": 18,
   "id": "401d170f",
   "metadata": {},
   "outputs": [
    {
     "data": {
      "text/plain": [
       "4"
      ]
     },
     "execution_count": 18,
     "metadata": {},
     "output_type": "execute_result"
    }
   ],
   "source": [
    "len(db)"
   ]
  },
  {
   "cell_type": "code",
   "execution_count": 19,
   "id": "735b0ec4",
   "metadata": {},
   "outputs": [
    {
     "data": {
      "text/plain": [
       "[1, 'vimal', 1111, 'ok']"
      ]
     },
     "execution_count": 19,
     "metadata": {},
     "output_type": "execute_result"
    }
   ],
   "source": [
    "db[0]"
   ]
  },
  {
   "cell_type": "code",
   "execution_count": 20,
   "id": "6c91af63",
   "metadata": {},
   "outputs": [
    {
     "data": {
      "text/plain": [
       "[[1, 'vimal', 1111, 'ok'],\n",
       " [2, 'pop', 2222, 'good'],\n",
       " [3, 'jack', 3333, 'ok'],\n",
       " [4, 'eric', 4444, 'good']]"
      ]
     },
     "execution_count": 20,
     "metadata": {},
     "output_type": "execute_result"
    }
   ],
   "source": [
    "db"
   ]
  },
  {
   "cell_type": "code",
   "execution_count": 26,
   "id": "e57ad4f5",
   "metadata": {},
   "outputs": [
    {
     "data": {
      "text/plain": [
       "'good'"
      ]
     },
     "execution_count": 26,
     "metadata": {},
     "output_type": "execute_result"
    }
   ],
   "source": [
    "db[1][3]"
   ]
  },
  {
   "cell_type": "code",
   "execution_count": 28,
   "id": "ff29780b",
   "metadata": {},
   "outputs": [
    {
     "data": {
      "text/plain": [
       "[[1, 'vimal', 1111, 'ok'],\n",
       " [2, 'pop', 2222, 'good'],\n",
       " [3, 'jack', 3333, 'ok'],\n",
       " [4, 'eric', 4444, 'good']]"
      ]
     },
     "execution_count": 28,
     "metadata": {},
     "output_type": "execute_result"
    }
   ],
   "source": [
    "db"
   ]
  },
  {
   "cell_type": "code",
   "execution_count": 24,
   "id": "0ec08bea",
   "metadata": {},
   "outputs": [
    {
     "data": {
      "text/plain": [
       "[[2, 'pop', 2222, 'good'], [3, 'jack', 3333, 'ok'], [4, 'eric', 4444, 'good']]"
      ]
     },
     "execution_count": 24,
     "metadata": {},
     "output_type": "execute_result"
    }
   ],
   "source": [
    "db[1:4]"
   ]
  },
  {
   "cell_type": "code",
   "execution_count": 27,
   "id": "0eb30e94",
   "metadata": {},
   "outputs": [],
   "source": [
    "import numpy"
   ]
  },
  {
   "cell_type": "code",
   "execution_count": 29,
   "id": "1a80abd6",
   "metadata": {},
   "outputs": [],
   "source": [
    "a = numpy.array(db)"
   ]
  },
  {
   "cell_type": "code",
   "execution_count": 30,
   "id": "aa6258d8",
   "metadata": {},
   "outputs": [
    {
     "data": {
      "text/plain": [
       "numpy.ndarray"
      ]
     },
     "execution_count": 30,
     "metadata": {},
     "output_type": "execute_result"
    }
   ],
   "source": [
    "type(a)"
   ]
  },
  {
   "cell_type": "code",
   "execution_count": 32,
   "id": "7f67832e",
   "metadata": {},
   "outputs": [
    {
     "data": {
      "text/plain": [
       "(4, 4)"
      ]
     },
     "execution_count": 32,
     "metadata": {},
     "output_type": "execute_result"
    }
   ],
   "source": [
    "a.shape"
   ]
  },
  {
   "cell_type": "code",
   "execution_count": 38,
   "id": "1bf66a5b",
   "metadata": {},
   "outputs": [
    {
     "data": {
      "text/plain": [
       "array(['vimal', 'pop', 'jack', 'eric'], dtype='<U11')"
      ]
     },
     "execution_count": 38,
     "metadata": {},
     "output_type": "execute_result"
    }
   ],
   "source": [
    "a[: , 1]"
   ]
  },
  {
   "cell_type": "code",
   "execution_count": 40,
   "id": "8c4ac044",
   "metadata": {},
   "outputs": [
    {
     "data": {
      "text/plain": [
       "array([['vimal', '1111'],\n",
       "       ['pop', '2222'],\n",
       "       ['jack', '3333'],\n",
       "       ['eric', '4444']], dtype='<U11')"
      ]
     },
     "execution_count": 40,
     "metadata": {},
     "output_type": "execute_result"
    }
   ],
   "source": [
    "a[: , 1:3]"
   ]
  },
  {
   "cell_type": "code",
   "execution_count": 43,
   "id": "3118dcf1",
   "metadata": {},
   "outputs": [
    {
     "data": {
      "text/plain": [
       "array([['pop', '2222'],\n",
       "       ['jack', '3333']], dtype='<U11')"
      ]
     },
     "execution_count": 43,
     "metadata": {},
     "output_type": "execute_result"
    }
   ],
   "source": [
    "a[1:3 , 1:3 ]"
   ]
  },
  {
   "cell_type": "code",
   "execution_count": 46,
   "id": "ee209eba",
   "metadata": {},
   "outputs": [],
   "source": [
    "# pip install opencv-python\n",
    "import cv2"
   ]
  },
  {
   "cell_type": "code",
   "execution_count": 47,
   "id": "bfb8dc09",
   "metadata": {},
   "outputs": [],
   "source": [
    "photo = cv2.imread('vimal jim redhat.jpg')"
   ]
  },
  {
   "cell_type": "code",
   "execution_count": 48,
   "id": "f10a622a",
   "metadata": {},
   "outputs": [
    {
     "data": {
      "text/plain": [
       "numpy.ndarray"
      ]
     },
     "execution_count": 48,
     "metadata": {},
     "output_type": "execute_result"
    }
   ],
   "source": [
    "type(photo)"
   ]
  },
  {
   "cell_type": "code",
   "execution_count": 50,
   "id": "bc84ae20",
   "metadata": {},
   "outputs": [
    {
     "data": {
      "text/plain": [
       "(2316, 3088, 3)"
      ]
     },
     "execution_count": 50,
     "metadata": {},
     "output_type": "execute_result"
    }
   ],
   "source": [
    "photo.shape"
   ]
  },
  {
   "cell_type": "code",
   "execution_count": 58,
   "id": "7150da26",
   "metadata": {},
   "outputs": [],
   "source": [
    "# crop image\n",
    "b = photo[100:1200 , 300:2000 ]"
   ]
  },
  {
   "cell_type": "code",
   "execution_count": 59,
   "id": "e0d67dc0",
   "metadata": {},
   "outputs": [
    {
     "data": {
      "text/plain": [
       "True"
      ]
     },
     "execution_count": 59,
     "metadata": {},
     "output_type": "execute_result"
    }
   ],
   "source": [
    "cv2.imwrite(\"my.jpg\" , b)"
   ]
  },
  {
   "cell_type": "code",
   "execution_count": 60,
   "id": "186ca32b",
   "metadata": {},
   "outputs": [],
   "source": [
    "cap = cv2.VideoCapture(0)"
   ]
  },
  {
   "cell_type": "code",
   "execution_count": 61,
   "id": "b8e3fc7c",
   "metadata": {},
   "outputs": [],
   "source": [
    "# click photo\n",
    "myphoto = cap.read()"
   ]
  },
  {
   "cell_type": "code",
   "execution_count": 62,
   "id": "a337f117",
   "metadata": {},
   "outputs": [
    {
     "data": {
      "text/plain": [
       "2"
      ]
     },
     "execution_count": 62,
     "metadata": {},
     "output_type": "execute_result"
    }
   ],
   "source": [
    "len(myphoto)"
   ]
  },
  {
   "cell_type": "code",
   "execution_count": 65,
   "id": "0f99a216",
   "metadata": {},
   "outputs": [],
   "source": [
    "ret = myphoto[0]"
   ]
  },
  {
   "cell_type": "code",
   "execution_count": 66,
   "id": "901dc4f9",
   "metadata": {},
   "outputs": [
    {
     "data": {
      "text/plain": [
       "True"
      ]
     },
     "execution_count": 66,
     "metadata": {},
     "output_type": "execute_result"
    }
   ],
   "source": [
    "ret"
   ]
  },
  {
   "cell_type": "code",
   "execution_count": 67,
   "id": "a21559ad",
   "metadata": {},
   "outputs": [],
   "source": [
    "aphoto = myphoto[1]"
   ]
  },
  {
   "cell_type": "code",
   "execution_count": 69,
   "id": "ebd0c86e",
   "metadata": {},
   "outputs": [
    {
     "data": {
      "text/plain": [
       "(480, 640, 3)"
      ]
     },
     "execution_count": 69,
     "metadata": {},
     "output_type": "execute_result"
    }
   ],
   "source": [
    "aphoto.shape"
   ]
  },
  {
   "cell_type": "code",
   "execution_count": 70,
   "id": "1bbf5c90",
   "metadata": {},
   "outputs": [
    {
     "data": {
      "text/plain": [
       "True"
      ]
     },
     "execution_count": 70,
     "metadata": {},
     "output_type": "execute_result"
    }
   ],
   "source": [
    "cv2.imwrite(\"vimal.png\" , aphoto)"
   ]
  },
  {
   "cell_type": "code",
   "execution_count": 71,
   "id": "3b84e5f2",
   "metadata": {},
   "outputs": [],
   "source": [
    "a1 = numpy.array([ [1,2], [3,4], [5,6]])"
   ]
  },
  {
   "cell_type": "code",
   "execution_count": 72,
   "id": "f87bb5af",
   "metadata": {},
   "outputs": [
    {
     "data": {
      "text/plain": [
       "array([[1, 2],\n",
       "       [3, 4],\n",
       "       [5, 6]])"
      ]
     },
     "execution_count": 72,
     "metadata": {},
     "output_type": "execute_result"
    }
   ],
   "source": [
    "a1"
   ]
  },
  {
   "cell_type": "code",
   "execution_count": 73,
   "id": "15b14c5b",
   "metadata": {},
   "outputs": [
    {
     "data": {
      "text/plain": [
       "(3, 2)"
      ]
     },
     "execution_count": 73,
     "metadata": {},
     "output_type": "execute_result"
    }
   ],
   "source": [
    "a1.shape"
   ]
  },
  {
   "cell_type": "code",
   "execution_count": 74,
   "id": "892f4870",
   "metadata": {},
   "outputs": [],
   "source": [
    "b1 = numpy.array([ [3,3], [4,4], [5,5]])"
   ]
  },
  {
   "cell_type": "code",
   "execution_count": 75,
   "id": "c3859930",
   "metadata": {},
   "outputs": [
    {
     "data": {
      "text/plain": [
       "array([[3, 3],\n",
       "       [4, 4],\n",
       "       [5, 5]])"
      ]
     },
     "execution_count": 75,
     "metadata": {},
     "output_type": "execute_result"
    }
   ],
   "source": [
    "b1"
   ]
  },
  {
   "cell_type": "code",
   "execution_count": 76,
   "id": "024768c5",
   "metadata": {},
   "outputs": [
    {
     "data": {
      "text/plain": [
       "(3, 2)"
      ]
     },
     "execution_count": 76,
     "metadata": {},
     "output_type": "execute_result"
    }
   ],
   "source": [
    "b1.shape"
   ]
  },
  {
   "cell_type": "code",
   "execution_count": 77,
   "id": "ab3e68b8",
   "metadata": {},
   "outputs": [
    {
     "data": {
      "text/plain": [
       "array([[1, 2],\n",
       "       [3, 4],\n",
       "       [5, 6]])"
      ]
     },
     "execution_count": 77,
     "metadata": {},
     "output_type": "execute_result"
    }
   ],
   "source": [
    "a1"
   ]
  },
  {
   "cell_type": "code",
   "execution_count": 78,
   "id": "5b7e8198",
   "metadata": {},
   "outputs": [
    {
     "data": {
      "text/plain": [
       "array([[3, 3],\n",
       "       [4, 4],\n",
       "       [5, 5]])"
      ]
     },
     "execution_count": 78,
     "metadata": {},
     "output_type": "execute_result"
    }
   ],
   "source": [
    "b1"
   ]
  },
  {
   "cell_type": "code",
   "execution_count": 81,
   "id": "2da42bbe",
   "metadata": {},
   "outputs": [],
   "source": [
    "c1 = numpy.vstack( (a1, b1)  )"
   ]
  },
  {
   "cell_type": "code",
   "execution_count": 82,
   "id": "ae61ff93",
   "metadata": {},
   "outputs": [
    {
     "data": {
      "text/plain": [
       "(6, 2)"
      ]
     },
     "execution_count": 82,
     "metadata": {},
     "output_type": "execute_result"
    }
   ],
   "source": [
    "c1.shape"
   ]
  },
  {
   "cell_type": "code",
   "execution_count": 84,
   "id": "d7d4cba9",
   "metadata": {},
   "outputs": [],
   "source": [
    "d1 = numpy.hstack( (a1 , b1))"
   ]
  },
  {
   "cell_type": "code",
   "execution_count": 85,
   "id": "df0ba457",
   "metadata": {},
   "outputs": [
    {
     "data": {
      "text/plain": [
       "(3, 4)"
      ]
     },
     "execution_count": 85,
     "metadata": {},
     "output_type": "execute_result"
    }
   ],
   "source": [
    "d1.shape"
   ]
  },
  {
   "cell_type": "code",
   "execution_count": 86,
   "id": "684ef9e2",
   "metadata": {},
   "outputs": [
    {
     "data": {
      "text/plain": [
       "array([[1, 2, 3, 3],\n",
       "       [3, 4, 4, 4],\n",
       "       [5, 6, 5, 5]])"
      ]
     },
     "execution_count": 86,
     "metadata": {},
     "output_type": "execute_result"
    }
   ],
   "source": [
    "d1"
   ]
  },
  {
   "cell_type": "code",
   "execution_count": 88,
   "id": "b21a8961",
   "metadata": {},
   "outputs": [
    {
     "data": {
      "text/plain": [
       "(3, 2)"
      ]
     },
     "execution_count": 88,
     "metadata": {},
     "output_type": "execute_result"
    }
   ],
   "source": [
    "a1.shape"
   ]
  },
  {
   "cell_type": "code",
   "execution_count": 91,
   "id": "c091bc79",
   "metadata": {},
   "outputs": [
    {
     "data": {
      "text/plain": [
       "array([[1, 2, 3, 4, 5, 6]])"
      ]
     },
     "execution_count": 91,
     "metadata": {},
     "output_type": "execute_result"
    }
   ],
   "source": [
    "a1.reshape(1,6)"
   ]
  },
  {
   "cell_type": "code",
   "execution_count": 92,
   "id": "f0d01424",
   "metadata": {},
   "outputs": [],
   "source": [
    "e1 = numpy.array([1,2,3,4,5,6])"
   ]
  },
  {
   "cell_type": "code",
   "execution_count": 96,
   "id": "cad5e1bf",
   "metadata": {},
   "outputs": [
    {
     "data": {
      "text/plain": [
       "(6,)"
      ]
     },
     "execution_count": 96,
     "metadata": {},
     "output_type": "execute_result"
    }
   ],
   "source": [
    "e1.shape"
   ]
  },
  {
   "cell_type": "code",
   "execution_count": 97,
   "id": "7103a137",
   "metadata": {},
   "outputs": [
    {
     "data": {
      "text/plain": [
       "array([1, 2, 3, 4, 5, 6])"
      ]
     },
     "execution_count": 97,
     "metadata": {},
     "output_type": "execute_result"
    }
   ],
   "source": [
    "e1"
   ]
  },
  {
   "cell_type": "code",
   "execution_count": 99,
   "id": "d7a6d167",
   "metadata": {},
   "outputs": [],
   "source": [
    "f1 = e1.reshape(-1 , 1)"
   ]
  },
  {
   "cell_type": "code",
   "execution_count": 100,
   "id": "600fdebf",
   "metadata": {},
   "outputs": [
    {
     "data": {
      "text/plain": [
       "(6, 1)"
      ]
     },
     "execution_count": 100,
     "metadata": {},
     "output_type": "execute_result"
    }
   ],
   "source": [
    "f1.shape"
   ]
  },
  {
   "cell_type": "code",
   "execution_count": null,
   "id": "e8379fc2",
   "metadata": {},
   "outputs": [],
   "source": []
  }
 ],
 "metadata": {
  "kernelspec": {
   "display_name": "Python 3",
   "language": "python",
   "name": "python3"
  },
  "language_info": {
   "codemirror_mode": {
    "name": "ipython",
    "version": 3
   },
   "file_extension": ".py",
   "mimetype": "text/x-python",
   "name": "python",
   "nbconvert_exporter": "python",
   "pygments_lexer": "ipython3",
   "version": "3.8.8"
  }
 },
 "nbformat": 4,
 "nbformat_minor": 5
}
