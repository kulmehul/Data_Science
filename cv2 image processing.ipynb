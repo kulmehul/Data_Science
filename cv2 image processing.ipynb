{
 "cells": [
  {
   "cell_type": "code",
   "execution_count": 1,
   "id": "5e3e1688",
   "metadata": {},
   "outputs": [],
   "source": [
    "import cv2"
   ]
  },
  {
   "cell_type": "code",
   "execution_count": 2,
   "id": "4305593f",
   "metadata": {},
   "outputs": [],
   "source": [
    "cap  = cv2.VideoCapture(0)"
   ]
  },
  {
   "cell_type": "code",
   "execution_count": null,
   "id": "75eb309e",
   "metadata": {},
   "outputs": [],
   "source": [
    "x=5"
   ]
  },
  {
   "cell_type": "code",
   "execution_count": null,
   "id": "3d3848de",
   "metadata": {},
   "outputs": [],
   "source": [
    "y=10"
   ]
  },
  {
   "cell_type": "code",
   "execution_count": null,
   "id": "5869d197",
   "metadata": {},
   "outputs": [],
   "source": [
    "x, y= 5, 10"
   ]
  },
  {
   "cell_type": "code",
   "execution_count": 3,
   "id": "47ea693b",
   "metadata": {},
   "outputs": [],
   "source": [
    "ret ,  photo = cap.read()"
   ]
  },
  {
   "cell_type": "code",
   "execution_count": 46,
   "id": "ac380276",
   "metadata": {},
   "outputs": [
    {
     "data": {
      "text/plain": [
       "True"
      ]
     },
     "execution_count": 46,
     "metadata": {},
     "output_type": "execute_result"
    }
   ],
   "source": [
    "ret"
   ]
  },
  {
   "cell_type": "code",
   "execution_count": 47,
   "id": "d5953a90",
   "metadata": {},
   "outputs": [],
   "source": [
    "cap.release()"
   ]
  },
  {
   "cell_type": "code",
   "execution_count": 7,
   "id": "b3568bf4",
   "metadata": {},
   "outputs": [],
   "source": [
    "# cv2.imwrite(\"v.png\" , photo)"
   ]
  },
  {
   "cell_type": "code",
   "execution_count": 8,
   "id": "74205c9b",
   "metadata": {},
   "outputs": [],
   "source": [
    "p1 = cv2.imread(\"v.png\")"
   ]
  },
  {
   "cell_type": "code",
   "execution_count": 12,
   "id": "b4b18904",
   "metadata": {},
   "outputs": [],
   "source": [
    "cv2.imshow(\"hi\" , p1)\n",
    "\n",
    "# waitkey : hold ur window for some time : till u press any key or till timer complete\n",
    "\n",
    "cv2.waitKey()\n",
    "cv2.destroyAllWindows()"
   ]
  },
  {
   "cell_type": "code",
   "execution_count": 14,
   "id": "429eff5f",
   "metadata": {},
   "outputs": [
    {
     "data": {
      "text/plain": [
       "(480, 640, 3)"
      ]
     },
     "execution_count": 14,
     "metadata": {},
     "output_type": "execute_result"
    }
   ],
   "source": [
    "p1.shape"
   ]
  },
  {
   "cell_type": "code",
   "execution_count": 15,
   "id": "9a175c85",
   "metadata": {},
   "outputs": [
    {
     "data": {
      "text/plain": [
       "array([[[171, 163, 150],\n",
       "        [173, 164, 147],\n",
       "        [172, 163, 143],\n",
       "        ...,\n",
       "        [149, 189, 212],\n",
       "        [145, 185, 209],\n",
       "        [143, 183, 207]],\n",
       "\n",
       "       [[169, 163, 150],\n",
       "        [169, 162, 148],\n",
       "        [170, 162, 147],\n",
       "        ...,\n",
       "        [146, 182, 203],\n",
       "        [144, 180, 200],\n",
       "        [142, 179, 198]],\n",
       "\n",
       "       [[171, 163, 150],\n",
       "        [170, 163, 150],\n",
       "        [168, 162, 149],\n",
       "        ...,\n",
       "        [146, 178, 195],\n",
       "        [143, 176, 193],\n",
       "        [142, 174, 192]],\n",
       "\n",
       "       ...,\n",
       "\n",
       "       [[ 50,  65,  71],\n",
       "        [ 51,  66,  73],\n",
       "        [ 51,  67,  75],\n",
       "        ...,\n",
       "        [ 69,  61,  52],\n",
       "        [ 68,  61,  52],\n",
       "        [ 67,  60,  51]],\n",
       "\n",
       "       [[ 54,  66,  72],\n",
       "        [ 53,  67,  74],\n",
       "        [ 51,  67,  75],\n",
       "        ...,\n",
       "        [ 70,  61,  54],\n",
       "        [ 68,  60,  54],\n",
       "        [ 68,  60,  54]],\n",
       "\n",
       "       [[ 53,  67,  73],\n",
       "        [ 52,  67,  74],\n",
       "        [ 49,  66,  74],\n",
       "        ...,\n",
       "        [ 72,  62,  53],\n",
       "        [ 70,  60,  54],\n",
       "        [ 69,  59,  53]]], dtype=uint8)"
      ]
     },
     "execution_count": 15,
     "metadata": {},
     "output_type": "execute_result"
    }
   ],
   "source": [
    "p1"
   ]
  },
  {
   "cell_type": "code",
   "execution_count": 16,
   "id": "7022f188",
   "metadata": {},
   "outputs": [],
   "source": [
    "import numpy "
   ]
  },
  {
   "cell_type": "code",
   "execution_count": 23,
   "id": "152d0c5f",
   "metadata": {},
   "outputs": [],
   "source": [
    "a = numpy.array([[\n",
    "        [240,67,89], [240,62,86]],\n",
    "    \n",
    "                \n",
    "                ])"
   ]
  },
  {
   "cell_type": "code",
   "execution_count": 24,
   "id": "cf2a89f2",
   "metadata": {},
   "outputs": [
    {
     "data": {
      "text/plain": [
       "(1, 2, 3)"
      ]
     },
     "execution_count": 24,
     "metadata": {},
     "output_type": "execute_result"
    }
   ],
   "source": [
    "a.shape"
   ]
  },
  {
   "cell_type": "code",
   "execution_count": 40,
   "id": "2fb1f330",
   "metadata": {},
   "outputs": [],
   "source": [
    "p2 = numpy.zeros( (100,100, 3 ) )"
   ]
  },
  {
   "cell_type": "code",
   "execution_count": 41,
   "id": "f8eaeb05",
   "metadata": {},
   "outputs": [],
   "source": [
    "p2[20][34] = 240,67,89"
   ]
  },
  {
   "cell_type": "code",
   "execution_count": 42,
   "id": "d7e2cda7",
   "metadata": {},
   "outputs": [
    {
     "data": {
      "text/plain": [
       "array([[  0.,   0.,   0.],\n",
       "       [  0.,   0.,   0.],\n",
       "       [  0.,   0.,   0.],\n",
       "       [  0.,   0.,   0.],\n",
       "       [  0.,   0.,   0.],\n",
       "       [  0.,   0.,   0.],\n",
       "       [  0.,   0.,   0.],\n",
       "       [  0.,   0.,   0.],\n",
       "       [  0.,   0.,   0.],\n",
       "       [  0.,   0.,   0.],\n",
       "       [  0.,   0.,   0.],\n",
       "       [  0.,   0.,   0.],\n",
       "       [  0.,   0.,   0.],\n",
       "       [  0.,   0.,   0.],\n",
       "       [  0.,   0.,   0.],\n",
       "       [  0.,   0.,   0.],\n",
       "       [  0.,   0.,   0.],\n",
       "       [  0.,   0.,   0.],\n",
       "       [  0.,   0.,   0.],\n",
       "       [  0.,   0.,   0.],\n",
       "       [  0.,   0.,   0.],\n",
       "       [  0.,   0.,   0.],\n",
       "       [  0.,   0.,   0.],\n",
       "       [  0.,   0.,   0.],\n",
       "       [  0.,   0.,   0.],\n",
       "       [  0.,   0.,   0.],\n",
       "       [  0.,   0.,   0.],\n",
       "       [  0.,   0.,   0.],\n",
       "       [  0.,   0.,   0.],\n",
       "       [  0.,   0.,   0.],\n",
       "       [  0.,   0.,   0.],\n",
       "       [  0.,   0.,   0.],\n",
       "       [  0.,   0.,   0.],\n",
       "       [  0.,   0.,   0.],\n",
       "       [240.,  67.,  89.],\n",
       "       [  0.,   0.,   0.],\n",
       "       [  0.,   0.,   0.],\n",
       "       [  0.,   0.,   0.],\n",
       "       [  0.,   0.,   0.],\n",
       "       [  0.,   0.,   0.],\n",
       "       [  0.,   0.,   0.],\n",
       "       [  0.,   0.,   0.],\n",
       "       [  0.,   0.,   0.],\n",
       "       [  0.,   0.,   0.],\n",
       "       [  0.,   0.,   0.],\n",
       "       [  0.,   0.,   0.],\n",
       "       [  0.,   0.,   0.],\n",
       "       [  0.,   0.,   0.],\n",
       "       [  0.,   0.,   0.],\n",
       "       [  0.,   0.,   0.],\n",
       "       [  0.,   0.,   0.],\n",
       "       [  0.,   0.,   0.],\n",
       "       [  0.,   0.,   0.],\n",
       "       [  0.,   0.,   0.],\n",
       "       [  0.,   0.,   0.],\n",
       "       [  0.,   0.,   0.],\n",
       "       [  0.,   0.,   0.],\n",
       "       [  0.,   0.,   0.],\n",
       "       [  0.,   0.,   0.],\n",
       "       [  0.,   0.,   0.],\n",
       "       [  0.,   0.,   0.],\n",
       "       [  0.,   0.,   0.],\n",
       "       [  0.,   0.,   0.],\n",
       "       [  0.,   0.,   0.],\n",
       "       [  0.,   0.,   0.],\n",
       "       [  0.,   0.,   0.],\n",
       "       [  0.,   0.,   0.],\n",
       "       [  0.,   0.,   0.],\n",
       "       [  0.,   0.,   0.],\n",
       "       [  0.,   0.,   0.],\n",
       "       [  0.,   0.,   0.],\n",
       "       [  0.,   0.,   0.],\n",
       "       [  0.,   0.,   0.],\n",
       "       [  0.,   0.,   0.],\n",
       "       [  0.,   0.,   0.],\n",
       "       [  0.,   0.,   0.],\n",
       "       [  0.,   0.,   0.],\n",
       "       [  0.,   0.,   0.],\n",
       "       [  0.,   0.,   0.],\n",
       "       [  0.,   0.,   0.],\n",
       "       [  0.,   0.,   0.],\n",
       "       [  0.,   0.,   0.],\n",
       "       [  0.,   0.,   0.],\n",
       "       [  0.,   0.,   0.],\n",
       "       [  0.,   0.,   0.],\n",
       "       [  0.,   0.,   0.],\n",
       "       [  0.,   0.,   0.],\n",
       "       [  0.,   0.,   0.],\n",
       "       [  0.,   0.,   0.],\n",
       "       [  0.,   0.,   0.],\n",
       "       [  0.,   0.,   0.],\n",
       "       [  0.,   0.,   0.],\n",
       "       [  0.,   0.,   0.],\n",
       "       [  0.,   0.,   0.],\n",
       "       [  0.,   0.,   0.],\n",
       "       [  0.,   0.,   0.],\n",
       "       [  0.,   0.,   0.],\n",
       "       [  0.,   0.,   0.],\n",
       "       [  0.,   0.,   0.],\n",
       "       [  0.,   0.,   0.]])"
      ]
     },
     "execution_count": 42,
     "metadata": {},
     "output_type": "execute_result"
    }
   ],
   "source": [
    "p2[20]"
   ]
  },
  {
   "cell_type": "code",
   "execution_count": 45,
   "id": "4f2b6860",
   "metadata": {},
   "outputs": [],
   "source": [
    "cv2.imshow(\"hi\" , p1)\n",
    "\n",
    "cv2.waitKey()\n",
    "cv2.destroyAllWindows()"
   ]
  },
  {
   "cell_type": "code",
   "execution_count": null,
   "id": "c10b6170",
   "metadata": {},
   "outputs": [],
   "source": []
  }
 ],
 "metadata": {
  "kernelspec": {
   "display_name": "Python 3",
   "language": "python",
   "name": "python3"
  },
  "language_info": {
   "codemirror_mode": {
    "name": "ipython",
    "version": 3
   },
   "file_extension": ".py",
   "mimetype": "text/x-python",
   "name": "python",
   "nbconvert_exporter": "python",
   "pygments_lexer": "ipython3",
   "version": "3.8.8"
  }
 },
 "nbformat": 4,
 "nbformat_minor": 5
}
