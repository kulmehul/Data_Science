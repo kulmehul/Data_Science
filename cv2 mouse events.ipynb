{
 "cells": [
  {
   "cell_type": "code",
   "execution_count": null,
   "id": "8432f03f",
   "metadata": {},
   "outputs": [],
   "source": [
    "# events and call back"
   ]
  },
  {
   "cell_type": "code",
   "execution_count": 1,
   "id": "d0e0573d",
   "metadata": {},
   "outputs": [],
   "source": [
    "import cv2"
   ]
  },
  {
   "cell_type": "code",
   "execution_count": 2,
   "id": "fd9e2d79",
   "metadata": {},
   "outputs": [],
   "source": [
    "cap = cv2.VideoCapture(1)"
   ]
  },
  {
   "cell_type": "code",
   "execution_count": 45,
   "id": "762d18d8",
   "metadata": {},
   "outputs": [],
   "source": [
    "ret , photo = cap.read()"
   ]
  },
  {
   "cell_type": "code",
   "execution_count": 39,
   "id": "ec32c042",
   "metadata": {
    "scrolled": true
   },
   "outputs": [
    {
     "name": "stdout",
     "output_type": "stream",
     "text": [
      "x : 342 y : 176\n",
      "x : 55 y : 39\n",
      "x : 146 y : 358\n",
      "x : 131 y : 204\n",
      "x : 138 y : 225\n",
      "x : 169 y : 246\n",
      "x : 170 y : 251\n",
      "x : 186 y : 298\n",
      "x : 170 y : 322\n",
      "x : 125 y : 355\n",
      "x : 116 y : 379\n",
      "x : 265 y : 357\n",
      "x : 331 y : 393\n"
     ]
    }
   ],
   "source": [
    "def lw(event , x , y, i,j):\n",
    "    if event == cv2.EVENT_LBUTTONDOWN:\n",
    "        print(\"x :\", x , \"y :\" , y)\n",
    "        cv2.circle(photo , (x,y) , 50 , [0,255,0], -1 )\n",
    "    \n",
    "    \n",
    "\n",
    "#cv2.imshow(photo)\n",
    "cv2.namedWindow(winname=\"mywin1\")\n",
    "\n",
    "cv2.setMouseCallback( \"mywin1\" , lw  )\n",
    "\n",
    "while True:\n",
    "    cv2.imshow(\"mywin1\" , photo)\n",
    "    if cv2.waitKey(100) == 13:\n",
    "        break\n",
    "        \n",
    "cv2.destroyAllWindows()"
   ]
  },
  {
   "cell_type": "code",
   "execution_count": null,
   "id": "b12203a3",
   "metadata": {},
   "outputs": [],
   "source": []
  },
  {
   "cell_type": "code",
   "execution_count": 16,
   "id": "d144f115",
   "metadata": {},
   "outputs": [],
   "source": [
    "def p():\n",
    "    print(\"hi\")"
   ]
  },
  {
   "cell_type": "code",
   "execution_count": 17,
   "id": "f4bb9743",
   "metadata": {},
   "outputs": [
    {
     "ename": "TypeError",
     "evalue": "p() takes 0 positional arguments but 3 were given",
     "output_type": "error",
     "traceback": [
      "\u001b[1;31m---------------------------------------------------------------------------\u001b[0m",
      "\u001b[1;31mTypeError\u001b[0m                                 Traceback (most recent call last)",
      "\u001b[1;32m<ipython-input-17-606ba42199a1>\u001b[0m in \u001b[0;36m<module>\u001b[1;34m\u001b[0m\n\u001b[1;32m----> 1\u001b[1;33m \u001b[0mp\u001b[0m\u001b[1;33m(\u001b[0m\u001b[1;36m1\u001b[0m\u001b[1;33m,\u001b[0m\u001b[1;36m2\u001b[0m\u001b[1;33m,\u001b[0m\u001b[1;36m3\u001b[0m\u001b[1;33m)\u001b[0m\u001b[1;33m\u001b[0m\u001b[1;33m\u001b[0m\u001b[0m\n\u001b[0m",
      "\u001b[1;31mTypeError\u001b[0m: p() takes 0 positional arguments but 3 were given"
     ]
    }
   ],
   "source": [
    "p(1,2,3)"
   ]
  },
  {
   "cell_type": "code",
   "execution_count": 11,
   "id": "d4ad7ba9",
   "metadata": {},
   "outputs": [
    {
     "data": {
      "text/plain": [
       "<function __main__.p()>"
      ]
     },
     "execution_count": 11,
     "metadata": {},
     "output_type": "execute_result"
    }
   ],
   "source": [
    "p"
   ]
  },
  {
   "cell_type": "code",
   "execution_count": 24,
   "id": "a4257b51",
   "metadata": {},
   "outputs": [
    {
     "data": {
      "text/plain": [
       "3"
      ]
     },
     "execution_count": 24,
     "metadata": {},
     "output_type": "execute_result"
    }
   ],
   "source": [
    "cv2.EVENT_MBUTTONDOWN"
   ]
  },
  {
   "cell_type": "code",
   "execution_count": 29,
   "id": "e22dd4d9",
   "metadata": {},
   "outputs": [],
   "source": [
    "nphoto =  photo.copy()"
   ]
  },
  {
   "cell_type": "code",
   "execution_count": 32,
   "id": "03e881a4",
   "metadata": {},
   "outputs": [],
   "source": [
    "cphoto = cv2.circle(nphoto , (150,150) , 50 , [0,255,0], -1 )"
   ]
  },
  {
   "cell_type": "code",
   "execution_count": 33,
   "id": "9381be29",
   "metadata": {},
   "outputs": [],
   "source": [
    "cv2.imshow(\"mywin1\" , cphoto)\n",
    "cv2.waitKey()\n",
    "cv2.destroyAllWindows()"
   ]
  },
  {
   "cell_type": "code",
   "execution_count": null,
   "id": "827c5992",
   "metadata": {},
   "outputs": [
    {
     "name": "stdout",
     "output_type": "stream",
     "text": [
      "144 217\n",
      "104 210\n",
      "148 225\n",
      "262 62\n"
     ]
    }
   ],
   "source": [
    "def lw(event , x , y, i,j):\n",
    "    if event == cv2.EVENT_LBUTTONDOWN:\n",
    "        print(x,y)\n",
    "        if event == cv2.EVENT_MOUSEMOVE:\n",
    "            print(\"x :\", x , \"y :\" , y)\n",
    "            cv2.circle(photo , (x,y) , 1 , [0,255,0], -1 )\n",
    "        \n",
    "    \n",
    "\n",
    "#cv2.imshow(photo)\n",
    "cv2.namedWindow(winname=\"mywin1\")\n",
    "\n",
    "cv2.setMouseCallback( \"mywin1\" , lw  )\n",
    "\n",
    "while True:\n",
    "    cv2.imshow(\"mywin1\" , photo)\n",
    "    if cv2.waitKey(100) == 13:\n",
    "        break\n",
    "        \n",
    "cv2.destroyAllWindows()"
   ]
  },
  {
   "cell_type": "code",
   "execution_count": null,
   "id": "2ef68cd4",
   "metadata": {},
   "outputs": [],
   "source": []
  }
 ],
 "metadata": {
  "kernelspec": {
   "display_name": "Python 3",
   "language": "python",
   "name": "python3"
  },
  "language_info": {
   "codemirror_mode": {
    "name": "ipython",
    "version": 3
   },
   "file_extension": ".py",
   "mimetype": "text/x-python",
   "name": "python",
   "nbconvert_exporter": "python",
   "pygments_lexer": "ipython3",
   "version": "3.8.8"
  }
 },
 "nbformat": 4,
 "nbformat_minor": 5
}
