{
 "cells": [
  {
   "cell_type": "code",
   "execution_count": 1,
   "id": "cabaf03b",
   "metadata": {},
   "outputs": [],
   "source": [
    "import cv2"
   ]
  },
  {
   "cell_type": "code",
   "execution_count": 6,
   "id": "c647e189",
   "metadata": {},
   "outputs": [],
   "source": [
    "cap = cv2.VideoCapture(1)"
   ]
  },
  {
   "cell_type": "code",
   "execution_count": 15,
   "id": "980b2bbb",
   "metadata": {},
   "outputs": [],
   "source": [
    "while True:\n",
    "    ret, photo = cap.read()\n",
    "    # nphoto = photo[100:400, 150:450]\n",
    "    nphoto = cv2.cvtColor(photo, cv2.COLOR_BGR2GRAY )\n",
    "    #rphoto = nphoto[100:400, 150:450]\n",
    "    cv2.imshow(\"my title\" , nphoto)\n",
    "    if cv2.waitKey(100) == 13:\n",
    "        break\n",
    "    \n",
    "    \n",
    "cv2.destroyAllWindows()\n"
   ]
  },
  {
   "cell_type": "code",
   "execution_count": 4,
   "id": "767d7243",
   "metadata": {},
   "outputs": [],
   "source": [
    "cap.release()"
   ]
  },
  {
   "cell_type": "code",
   "execution_count": 11,
   "id": "6ff1976a",
   "metadata": {},
   "outputs": [
    {
     "data": {
      "text/plain": [
       "array([[[166, 164, 162],\n",
       "        [166, 163, 158],\n",
       "        [169, 164, 158],\n",
       "        ...,\n",
       "        [161, 191, 208],\n",
       "        [157, 190, 205],\n",
       "        [158, 191, 206]],\n",
       "\n",
       "       [[166, 165, 161],\n",
       "        [167, 165, 161],\n",
       "        [168, 165, 161],\n",
       "        ...,\n",
       "        [162, 190, 202],\n",
       "        [161, 191, 202],\n",
       "        [161, 191, 202]],\n",
       "\n",
       "       [[167, 166, 162],\n",
       "        [167, 166, 163],\n",
       "        [166, 164, 162],\n",
       "        ...,\n",
       "        [164, 189, 201],\n",
       "        [162, 189, 201],\n",
       "        [162, 189, 200]],\n",
       "\n",
       "       ...,\n",
       "\n",
       "       [[ 63,  89, 105],\n",
       "        [ 63,  91, 105],\n",
       "        [ 65,  94, 107],\n",
       "        ...,\n",
       "        [ 74,  67,  54],\n",
       "        [ 73,  65,  57],\n",
       "        [ 71,  64,  56]],\n",
       "\n",
       "       [[ 61,  90, 105],\n",
       "        [ 65,  92, 108],\n",
       "        [ 67,  93, 109],\n",
       "        ...,\n",
       "        [ 74,  67,  56],\n",
       "        [ 73,  65,  57],\n",
       "        [ 72,  65,  57]],\n",
       "\n",
       "       [[ 64,  88, 102],\n",
       "        [ 63,  88, 103],\n",
       "        [ 66,  92, 108],\n",
       "        ...,\n",
       "        [ 74,  65,  57],\n",
       "        [ 73,  65,  59],\n",
       "        [ 72,  65,  59]]], dtype=uint8)"
      ]
     },
     "execution_count": 11,
     "metadata": {},
     "output_type": "execute_result"
    }
   ],
   "source": [
    "photo"
   ]
  },
  {
   "cell_type": "code",
   "execution_count": null,
   "id": "9955107a",
   "metadata": {},
   "outputs": [],
   "source": []
  }
 ],
 "metadata": {
  "kernelspec": {
   "display_name": "Python 3",
   "language": "python",
   "name": "python3"
  },
  "language_info": {
   "codemirror_mode": {
    "name": "ipython",
    "version": 3
   },
   "file_extension": ".py",
   "mimetype": "text/x-python",
   "name": "python",
   "nbconvert_exporter": "python",
   "pygments_lexer": "ipython3",
   "version": "3.8.8"
  }
 },
 "nbformat": 4,
 "nbformat_minor": 5
}
